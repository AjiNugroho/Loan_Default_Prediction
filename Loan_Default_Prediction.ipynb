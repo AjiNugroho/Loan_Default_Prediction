{
 "cells": [
  {
   "cell_type": "markdown",
   "metadata": {},
   "source": [
    "# Loan Default Prediction"
   ]
  },
  {
   "cell_type": "markdown",
   "metadata": {},
   "source": [
    "<img src=\"http://jihoon-kim.synology.me/wp-content/uploads/2017/07/LOAN-1024x512.jpg\">"
   ]
  },
  {
   "cell_type": "markdown",
   "metadata": {},
   "source": [
    "## Import Modules"
   ]
  },
  {
   "cell_type": "code",
   "execution_count": 39,
   "metadata": {},
   "outputs": [
    {
     "data": {
      "text/plain": [
       "'3.5.3 |Continuum Analytics, Inc.| (default, Mar  6 2017, 11:58:13) \\n[GCC 4.4.7 20120313 (Red Hat 4.4.7-1)]'"
      ]
     },
     "execution_count": 39,
     "metadata": {},
     "output_type": "execute_result"
    }
   ],
   "source": [
    "# import modules\n",
    "import pandas as pd\n",
    "import numpy as np\n",
    "import matplotlib.pyplot as plt\n",
    "%matplotlib inline\n",
    "import seaborn as sns\n",
    "import sys\n",
    "sys.version"
   ]
  },
  {
   "cell_type": "markdown",
   "metadata": {},
   "source": [
    "# Load Data"
   ]
  },
  {
   "cell_type": "markdown",
   "metadata": {},
   "source": [
    "Data is provided by Kaggle Datasets(https://www.kaggle.com/wendykan/lending-club-loan-data).\n",
    "\n",
    "### Data Description\n",
    ">These files contain complete loan data for all loans issued through the 2007-2015, including the current loan status (Current, Late, Fully Paid, etc.) and latest payment information. The file containing loan data through the \"present\" contains complete loan data for all loans issued through the previous completed calendar quarter. Additional features include credit scores, number of finance inquiries, address including zip codes, and state, and collections among others. The file is a matrix of about 890 thousand observations and 75 variables. A data dictionary is provided in a separate file."
   ]
  },
  {
   "cell_type": "code",
   "execution_count": 40,
   "metadata": {},
   "outputs": [
    {
     "name": "stderr",
     "output_type": "stream",
     "text": [
      "/home/jihoon_kim/anaconda3/envs/tensorflow/lib/python3.5/site-packages/IPython/core/interactiveshell.py:2698: DtypeWarning: Columns (19,55) have mixed types. Specify dtype option on import or set low_memory=False.\n",
      "  interactivity=interactivity, compiler=compiler, result=result)\n"
     ]
    }
   ],
   "source": [
    "# load data\n",
    "loan = pd.read_csv('./data/loan.csv')"
   ]
  },
  {
   "cell_type": "markdown",
   "metadata": {},
   "source": [
    "# Data Pre-Processing\n",
    "Let's quickly explore how this data looks like."
   ]
  },
  {
   "cell_type": "code",
   "execution_count": 41,
   "metadata": {},
   "outputs": [
    {
     "data": {
      "text/plain": [
       "id                               int64\n",
       "member_id                        int64\n",
       "loan_amnt                      float64\n",
       "funded_amnt                    float64\n",
       "funded_amnt_inv                float64\n",
       "term                            object\n",
       "int_rate                       float64\n",
       "installment                    float64\n",
       "grade                           object\n",
       "sub_grade                       object\n",
       "emp_title                       object\n",
       "emp_length                      object\n",
       "home_ownership                  object\n",
       "annual_inc                     float64\n",
       "verification_status             object\n",
       "issue_d                         object\n",
       "loan_status                     object\n",
       "pymnt_plan                      object\n",
       "url                             object\n",
       "desc                            object\n",
       "purpose                         object\n",
       "title                           object\n",
       "zip_code                        object\n",
       "addr_state                      object\n",
       "dti                            float64\n",
       "delinq_2yrs                    float64\n",
       "earliest_cr_line                object\n",
       "inq_last_6mths                 float64\n",
       "mths_since_last_delinq         float64\n",
       "mths_since_last_record         float64\n",
       "                                ...   \n",
       "collection_recovery_fee        float64\n",
       "last_pymnt_d                    object\n",
       "last_pymnt_amnt                float64\n",
       "next_pymnt_d                    object\n",
       "last_credit_pull_d              object\n",
       "collections_12_mths_ex_med     float64\n",
       "mths_since_last_major_derog    float64\n",
       "policy_code                    float64\n",
       "application_type                object\n",
       "annual_inc_joint               float64\n",
       "dti_joint                      float64\n",
       "verification_status_joint       object\n",
       "acc_now_delinq                 float64\n",
       "tot_coll_amt                   float64\n",
       "tot_cur_bal                    float64\n",
       "open_acc_6m                    float64\n",
       "open_il_6m                     float64\n",
       "open_il_12m                    float64\n",
       "open_il_24m                    float64\n",
       "mths_since_rcnt_il             float64\n",
       "total_bal_il                   float64\n",
       "il_util                        float64\n",
       "open_rv_12m                    float64\n",
       "open_rv_24m                    float64\n",
       "max_bal_bc                     float64\n",
       "all_util                       float64\n",
       "total_rev_hi_lim               float64\n",
       "inq_fi                         float64\n",
       "total_cu_tl                    float64\n",
       "inq_last_12m                   float64\n",
       "Length: 74, dtype: object"
      ]
     },
     "execution_count": 41,
     "metadata": {},
     "output_type": "execute_result"
    }
   ],
   "source": [
    "loan.dtypes"
   ]
  },
  {
   "cell_type": "code",
   "execution_count": 42,
   "metadata": {},
   "outputs": [
    {
     "data": {
      "text/plain": [
       "id                                  0\n",
       "member_id                           0\n",
       "loan_amnt                           0\n",
       "funded_amnt                         0\n",
       "funded_amnt_inv                     0\n",
       "term                                0\n",
       "int_rate                            0\n",
       "installment                         0\n",
       "grade                               0\n",
       "sub_grade                           0\n",
       "emp_title                       51457\n",
       "emp_length                          0\n",
       "home_ownership                      0\n",
       "annual_inc                          4\n",
       "verification_status                 0\n",
       "issue_d                             0\n",
       "loan_status                         0\n",
       "pymnt_plan                          0\n",
       "url                                 0\n",
       "desc                           761350\n",
       "purpose                             0\n",
       "title                             151\n",
       "zip_code                            0\n",
       "addr_state                          0\n",
       "dti                                 0\n",
       "delinq_2yrs                        29\n",
       "earliest_cr_line                   29\n",
       "inq_last_6mths                     29\n",
       "mths_since_last_delinq         454312\n",
       "mths_since_last_record         750326\n",
       "                                ...  \n",
       "collection_recovery_fee             0\n",
       "last_pymnt_d                    17659\n",
       "last_pymnt_amnt                     0\n",
       "next_pymnt_d                   252971\n",
       "last_credit_pull_d                 53\n",
       "collections_12_mths_ex_med        145\n",
       "mths_since_last_major_derog    665676\n",
       "policy_code                         0\n",
       "application_type                    0\n",
       "annual_inc_joint               886868\n",
       "dti_joint                      886870\n",
       "verification_status_joint      886868\n",
       "acc_now_delinq                     29\n",
       "tot_coll_amt                    70276\n",
       "tot_cur_bal                     70276\n",
       "open_acc_6m                    866007\n",
       "open_il_6m                     866007\n",
       "open_il_12m                    866007\n",
       "open_il_24m                    866007\n",
       "mths_since_rcnt_il             866569\n",
       "total_bal_il                   866007\n",
       "il_util                        868762\n",
       "open_rv_12m                    866007\n",
       "open_rv_24m                    866007\n",
       "max_bal_bc                     866007\n",
       "all_util                       866007\n",
       "total_rev_hi_lim                70276\n",
       "inq_fi                         866007\n",
       "total_cu_tl                    866007\n",
       "inq_last_12m                   866007\n",
       "Length: 74, dtype: int64"
      ]
     },
     "execution_count": 42,
     "metadata": {},
     "output_type": "execute_result"
    }
   ],
   "source": [
    "loan.isnull().sum()"
   ]
  },
  {
   "cell_type": "markdown",
   "metadata": {},
   "source": [
    "There are some columns with huge number of null values! I will drop these columns."
   ]
  },
  {
   "cell_type": "code",
   "execution_count": 43,
   "metadata": {
    "collapsed": true
   },
   "outputs": [],
   "source": [
    "null_cols = ['desc',\n",
    "             'mths_since_last_delinq',\n",
    "             'mths_since_last_record',\n",
    "             'next_pymnt_d',\n",
    "             'mths_since_last_major_derog',\n",
    "             'annual_inc_joint',\n",
    "             'dti_joint',\n",
    "             'verification_status_joint',\n",
    "             'open_acc_6m',\n",
    "             'open_il_6m',\n",
    "             'open_il_12m',\n",
    "             'open_il_24m',\n",
    "             'mths_since_rcnt_il',\n",
    "             'total_bal_il',\n",
    "             'il_util',\n",
    "             'open_rv_12m',\n",
    "             'open_rv_24m',\n",
    "             'max_bal_bc',\n",
    "             'all_util',\n",
    "             'inq_fi',\n",
    "             'total_cu_tl',\n",
    "             'inq_last_12m'\n",
    "             ]"
   ]
  },
  {
   "cell_type": "code",
   "execution_count": 44,
   "metadata": {
    "collapsed": true
   },
   "outputs": [],
   "source": [
    "def drop_null_columns(data):\n",
    "    \"\"\"Drop columns (most of values are null)\"\"\"\n",
    "    data.drop(null_cols, axis=1, inplace=True)\n",
    "    return None"
   ]
  },
  {
   "cell_type": "code",
   "execution_count": 45,
   "metadata": {
    "collapsed": true
   },
   "outputs": [],
   "source": [
    "drop_null_columns(loan)"
   ]
  },
  {
   "cell_type": "markdown",
   "metadata": {},
   "source": [
    "## Modifying Target Column"
   ]
  },
  {
   "cell_type": "markdown",
   "metadata": {},
   "source": [
    "The target column I am interested in is `loan_status`. Let's explore how this column is composed of."
   ]
  },
  {
   "cell_type": "code",
   "execution_count": 46,
   "metadata": {},
   "outputs": [
    {
     "data": {
      "text/plain": [
       "Current                                                601779\n",
       "Fully Paid                                             207723\n",
       "Charged Off                                             45248\n",
       "Late (31-120 days)                                      11591\n",
       "Issued                                                   8460\n",
       "In Grace Period                                          6253\n",
       "Late (16-30 days)                                        2357\n",
       "Does not meet the credit policy. Status:Fully Paid       1988\n",
       "Default                                                  1219\n",
       "Does not meet the credit policy. Status:Charged Off       761\n",
       "Name: loan_status, dtype: int64"
      ]
     },
     "execution_count": 46,
     "metadata": {},
     "output_type": "execute_result"
    }
   ],
   "source": [
    "loan.loan_status.value_counts()"
   ]
  },
  {
   "cell_type": "markdown",
   "metadata": {},
   "source": [
    "Meaning of loan status is described below:\n",
    "\n",
    "|Loan Status|Meaning|\n",
    "|---:|:---|\n",
    "|Current|Loan is up to date on all outstanding payments.|\n",
    "|Fully Paid|Loan has been fully repaid, either at the expiration of the 3- or 5-year year term or as a result of a prepayment.|\n",
    "|Charged Off|Loan for which there is no longer a reasonable expectation of further payments. Generally, Charge Off occurs no later than 30 days after the Default status is reached. Upon Charge Off, the remaining principal balance of the Note is deducted from the account balance.|\n",
    "|Late (31-120 days)|Loan has not been current for 31 to 120 days.|\n",
    "|Issued|New loan that has passed all LendingClub reviews, received full funding, and has been issued.|\n",
    "|In Grace Period|Loan is past due but within the 15-day grace period.|\n",
    "|Late (16-30 days)|Loan has not been current for 16 to 30 days.|\n",
    "|Default|Loan has not been current for 121 days or more.|"
   ]
  },
  {
   "cell_type": "markdown",
   "metadata": {},
   "source": [
    "First of all, `Current` and `Issued` loans are still in progress, so they cannot be used for training. Let's split them."
   ]
  },
  {
   "cell_type": "code",
   "execution_count": 47,
   "metadata": {
    "collapsed": true
   },
   "outputs": [],
   "source": [
    "in_progress_index = ['Current', 'Issued']"
   ]
  },
  {
   "cell_type": "code",
   "execution_count": 48,
   "metadata": {
    "collapsed": true
   },
   "outputs": [],
   "source": [
    "def split_loan_in_progress(data):\n",
    "    \"\"\"Return table of loan in progress. It drops the loan in progress from loan data internally.\"\"\"\n",
    "    progress_bool = data.loan_status.isin(in_progress_index)\n",
    "    loan_in_progress = data[progress_bool].drop('loan_status', axis=1)\n",
    "    data.drop(list(loan_in_progress.index), axis=0, inplace=True)\n",
    "    return loan_in_progress"
   ]
  },
  {
   "cell_type": "code",
   "execution_count": 49,
   "metadata": {
    "collapsed": true
   },
   "outputs": [],
   "source": [
    "loan_in_progress = split_loan_in_progress(loan)"
   ]
  },
  {
   "cell_type": "code",
   "execution_count": 50,
   "metadata": {
    "scrolled": false
   },
   "outputs": [
    {
     "name": "stdout",
     "output_type": "stream",
     "text": [
      "Shape of loan_in_progress: (610239, 51)\n",
      "Shape of loan            : (277140, 52)\n"
     ]
    }
   ],
   "source": [
    "print(\"Shape of loan_in_progress:\", loan_in_progress.shape)\n",
    "print(\"Shape of loan            :\", loan.shape)"
   ]
  },
  {
   "cell_type": "markdown",
   "metadata": {},
   "source": [
    "There are many classes in `loan_status` feature. However, I want to divide it to 3 classses: bad, warning and safe.\n",
    "\n",
    "\n",
    "<table>\n",
    "  <tr>\n",
    "    <td>Loan Status</td>\n",
    "    <td>Class</td>\n",
    "    <td>Code</td>\n",
    "  </tr>\n",
    "  <tr>\n",
    "    <td>Fully Paid</td>\n",
    "    <td rowspan=\"2\">Safe</td>\n",
    "    <td rowspan=\"2\">2</td>\n",
    "  </tr>\n",
    "  <tr>\n",
    "    <td>Does not meet the credit policy. Status:Fully Paid</td>\n",
    "  </tr>\n",
    "  <tr>\n",
    "    <td>Late (31-120 days)</td>\n",
    "    <td rowspan=\"3\">Warning</td>\n",
    "    <td rowspan=\"3\">1</td>\n",
    "  </tr>\n",
    "  <tr>\n",
    "    <td>Late (16-30 days)</td>\n",
    "  </tr>\n",
    "  <tr>\n",
    "    <td>In Grace Period</td>\n",
    "  </tr>\n",
    "  <tr>\n",
    "    <td>Charged Off</td>\n",
    "    <td rowspan=\"3\">Bad</td>\n",
    "    <td rowspan=\"3\">0</td>\n",
    "  </tr>\n",
    "  <tr>\n",
    "    <td>Does not meet the credit policy. Status:Charged Off</td>\n",
    "  </tr>\n",
    "  <tr>\n",
    "    <td>Default</td>\n",
    "  </tr>\n",
    "</table>"
   ]
  },
  {
   "cell_type": "markdown",
   "metadata": {},
   "source": [
    "This categorization is coded as:"
   ]
  },
  {
   "cell_type": "code",
   "execution_count": 51,
   "metadata": {
    "collapsed": true
   },
   "outputs": [],
   "source": [
    "bad_index = ['Charged Off',\n",
    "             'Does not meet the credit policy. Status:Charged Off',\n",
    "             'Default'\n",
    "             ]\n",
    "\n",
    "warning_index = ['Late (31-120 days)',\n",
    "                 'Late (16-30 days)',\n",
    "                 'In Grace Period'          # (Late (1-15 days)\n",
    "                 ]\n",
    "\n",
    "safe_index = ['Fully Paid',\n",
    "              'Does not meet the credit policy. Status:Fully Paid'\n",
    "              ]"
   ]
  },
  {
   "cell_type": "code",
   "execution_count": 52,
   "metadata": {
    "collapsed": true
   },
   "outputs": [],
   "source": [
    "def categorize_target(data):\n",
    "    \"\"\"Returns encoded loan status: Safe, Warning and Bad\"\"\"\n",
    "\n",
    "    def func(x):\n",
    "        if x['loan_status'] in bad_index:\n",
    "            return 0\n",
    "        elif x['loan_status'] in warning_index:\n",
    "            return 1\n",
    "        else:\n",
    "            return 2\n",
    "\n",
    "    data['loan_status_coded'] = data.apply(func, axis=1)\n",
    "    data.drop('loan_status', axis=1, inplace=True)\n",
    "    return data"
   ]
  },
  {
   "cell_type": "code",
   "execution_count": 53,
   "metadata": {},
   "outputs": [],
   "source": [
    "loan = categorize_target(loan)"
   ]
  },
  {
   "cell_type": "code",
   "execution_count": 54,
   "metadata": {},
   "outputs": [
    {
     "data": {
      "text/html": [
       "<div>\n",
       "<style>\n",
       "    .dataframe thead tr:only-child th {\n",
       "        text-align: right;\n",
       "    }\n",
       "\n",
       "    .dataframe thead th {\n",
       "        text-align: left;\n",
       "    }\n",
       "\n",
       "    .dataframe tbody tr th {\n",
       "        vertical-align: top;\n",
       "    }\n",
       "</style>\n",
       "<table border=\"1\" class=\"dataframe\">\n",
       "  <thead>\n",
       "    <tr style=\"text-align: right;\">\n",
       "      <th></th>\n",
       "      <th>id</th>\n",
       "      <th>member_id</th>\n",
       "      <th>loan_amnt</th>\n",
       "      <th>funded_amnt</th>\n",
       "      <th>funded_amnt_inv</th>\n",
       "      <th>term</th>\n",
       "      <th>int_rate</th>\n",
       "      <th>installment</th>\n",
       "      <th>grade</th>\n",
       "      <th>sub_grade</th>\n",
       "      <th>...</th>\n",
       "      <th>last_pymnt_amnt</th>\n",
       "      <th>last_credit_pull_d</th>\n",
       "      <th>collections_12_mths_ex_med</th>\n",
       "      <th>policy_code</th>\n",
       "      <th>application_type</th>\n",
       "      <th>acc_now_delinq</th>\n",
       "      <th>tot_coll_amt</th>\n",
       "      <th>tot_cur_bal</th>\n",
       "      <th>total_rev_hi_lim</th>\n",
       "      <th>loan_status_coded</th>\n",
       "    </tr>\n",
       "  </thead>\n",
       "  <tbody>\n",
       "    <tr>\n",
       "      <th>0</th>\n",
       "      <td>1077501</td>\n",
       "      <td>1296599</td>\n",
       "      <td>5000.0</td>\n",
       "      <td>5000.0</td>\n",
       "      <td>4975.0</td>\n",
       "      <td>36 months</td>\n",
       "      <td>10.65</td>\n",
       "      <td>162.87</td>\n",
       "      <td>B</td>\n",
       "      <td>B2</td>\n",
       "      <td>...</td>\n",
       "      <td>171.62</td>\n",
       "      <td>Jan-2016</td>\n",
       "      <td>0.0</td>\n",
       "      <td>1.0</td>\n",
       "      <td>INDIVIDUAL</td>\n",
       "      <td>0.0</td>\n",
       "      <td>NaN</td>\n",
       "      <td>NaN</td>\n",
       "      <td>NaN</td>\n",
       "      <td>2</td>\n",
       "    </tr>\n",
       "    <tr>\n",
       "      <th>1</th>\n",
       "      <td>1077430</td>\n",
       "      <td>1314167</td>\n",
       "      <td>2500.0</td>\n",
       "      <td>2500.0</td>\n",
       "      <td>2500.0</td>\n",
       "      <td>60 months</td>\n",
       "      <td>15.27</td>\n",
       "      <td>59.83</td>\n",
       "      <td>C</td>\n",
       "      <td>C4</td>\n",
       "      <td>...</td>\n",
       "      <td>119.66</td>\n",
       "      <td>Sep-2013</td>\n",
       "      <td>0.0</td>\n",
       "      <td>1.0</td>\n",
       "      <td>INDIVIDUAL</td>\n",
       "      <td>0.0</td>\n",
       "      <td>NaN</td>\n",
       "      <td>NaN</td>\n",
       "      <td>NaN</td>\n",
       "      <td>0</td>\n",
       "    </tr>\n",
       "    <tr>\n",
       "      <th>2</th>\n",
       "      <td>1077175</td>\n",
       "      <td>1313524</td>\n",
       "      <td>2400.0</td>\n",
       "      <td>2400.0</td>\n",
       "      <td>2400.0</td>\n",
       "      <td>36 months</td>\n",
       "      <td>15.96</td>\n",
       "      <td>84.33</td>\n",
       "      <td>C</td>\n",
       "      <td>C5</td>\n",
       "      <td>...</td>\n",
       "      <td>649.91</td>\n",
       "      <td>Jan-2016</td>\n",
       "      <td>0.0</td>\n",
       "      <td>1.0</td>\n",
       "      <td>INDIVIDUAL</td>\n",
       "      <td>0.0</td>\n",
       "      <td>NaN</td>\n",
       "      <td>NaN</td>\n",
       "      <td>NaN</td>\n",
       "      <td>2</td>\n",
       "    </tr>\n",
       "    <tr>\n",
       "      <th>3</th>\n",
       "      <td>1076863</td>\n",
       "      <td>1277178</td>\n",
       "      <td>10000.0</td>\n",
       "      <td>10000.0</td>\n",
       "      <td>10000.0</td>\n",
       "      <td>36 months</td>\n",
       "      <td>13.49</td>\n",
       "      <td>339.31</td>\n",
       "      <td>C</td>\n",
       "      <td>C1</td>\n",
       "      <td>...</td>\n",
       "      <td>357.48</td>\n",
       "      <td>Jan-2015</td>\n",
       "      <td>0.0</td>\n",
       "      <td>1.0</td>\n",
       "      <td>INDIVIDUAL</td>\n",
       "      <td>0.0</td>\n",
       "      <td>NaN</td>\n",
       "      <td>NaN</td>\n",
       "      <td>NaN</td>\n",
       "      <td>2</td>\n",
       "    </tr>\n",
       "    <tr>\n",
       "      <th>5</th>\n",
       "      <td>1075269</td>\n",
       "      <td>1311441</td>\n",
       "      <td>5000.0</td>\n",
       "      <td>5000.0</td>\n",
       "      <td>5000.0</td>\n",
       "      <td>36 months</td>\n",
       "      <td>7.90</td>\n",
       "      <td>156.46</td>\n",
       "      <td>A</td>\n",
       "      <td>A4</td>\n",
       "      <td>...</td>\n",
       "      <td>161.03</td>\n",
       "      <td>Sep-2015</td>\n",
       "      <td>0.0</td>\n",
       "      <td>1.0</td>\n",
       "      <td>INDIVIDUAL</td>\n",
       "      <td>0.0</td>\n",
       "      <td>NaN</td>\n",
       "      <td>NaN</td>\n",
       "      <td>NaN</td>\n",
       "      <td>2</td>\n",
       "    </tr>\n",
       "  </tbody>\n",
       "</table>\n",
       "<p>5 rows × 52 columns</p>\n",
       "</div>"
      ],
      "text/plain": [
       "        id  member_id  loan_amnt  funded_amnt  funded_amnt_inv        term  \\\n",
       "0  1077501    1296599     5000.0       5000.0           4975.0   36 months   \n",
       "1  1077430    1314167     2500.0       2500.0           2500.0   60 months   \n",
       "2  1077175    1313524     2400.0       2400.0           2400.0   36 months   \n",
       "3  1076863    1277178    10000.0      10000.0          10000.0   36 months   \n",
       "5  1075269    1311441     5000.0       5000.0           5000.0   36 months   \n",
       "\n",
       "   int_rate  installment grade sub_grade        ...        last_pymnt_amnt  \\\n",
       "0     10.65       162.87     B        B2        ...                 171.62   \n",
       "1     15.27        59.83     C        C4        ...                 119.66   \n",
       "2     15.96        84.33     C        C5        ...                 649.91   \n",
       "3     13.49       339.31     C        C1        ...                 357.48   \n",
       "5      7.90       156.46     A        A4        ...                 161.03   \n",
       "\n",
       "  last_credit_pull_d collections_12_mths_ex_med  policy_code application_type  \\\n",
       "0           Jan-2016                        0.0          1.0       INDIVIDUAL   \n",
       "1           Sep-2013                        0.0          1.0       INDIVIDUAL   \n",
       "2           Jan-2016                        0.0          1.0       INDIVIDUAL   \n",
       "3           Jan-2015                        0.0          1.0       INDIVIDUAL   \n",
       "5           Sep-2015                        0.0          1.0       INDIVIDUAL   \n",
       "\n",
       "  acc_now_delinq tot_coll_amt tot_cur_bal total_rev_hi_lim loan_status_coded  \n",
       "0            0.0          NaN         NaN              NaN                 2  \n",
       "1            0.0          NaN         NaN              NaN                 0  \n",
       "2            0.0          NaN         NaN              NaN                 2  \n",
       "3            0.0          NaN         NaN              NaN                 2  \n",
       "5            0.0          NaN         NaN              NaN                 2  \n",
       "\n",
       "[5 rows x 52 columns]"
      ]
     },
     "execution_count": 54,
     "metadata": {},
     "output_type": "execute_result"
    }
   ],
   "source": [
    "loan.head()"
   ]
  },
  {
   "cell_type": "markdown",
   "metadata": {},
   "source": [
    "# Exploratory Data Analysis"
   ]
  },
  {
   "cell_type": "markdown",
   "metadata": {},
   "source": [
    "Now, we have pre-processed data table as `loan`. Let's explore distribution of each features to understand data."
   ]
  },
  {
   "cell_type": "code",
   "execution_count": 55,
   "metadata": {},
   "outputs": [
    {
     "data": {
      "text/plain": [
       "id                              int64\n",
       "member_id                       int64\n",
       "loan_amnt                     float64\n",
       "funded_amnt                   float64\n",
       "funded_amnt_inv               float64\n",
       "term                           object\n",
       "int_rate                      float64\n",
       "installment                   float64\n",
       "grade                          object\n",
       "sub_grade                      object\n",
       "emp_title                      object\n",
       "emp_length                     object\n",
       "home_ownership                 object\n",
       "annual_inc                    float64\n",
       "verification_status            object\n",
       "issue_d                        object\n",
       "pymnt_plan                     object\n",
       "url                            object\n",
       "purpose                        object\n",
       "title                          object\n",
       "zip_code                       object\n",
       "addr_state                     object\n",
       "dti                           float64\n",
       "delinq_2yrs                   float64\n",
       "earliest_cr_line               object\n",
       "inq_last_6mths                float64\n",
       "open_acc                      float64\n",
       "pub_rec                       float64\n",
       "revol_bal                     float64\n",
       "revol_util                    float64\n",
       "total_acc                     float64\n",
       "initial_list_status            object\n",
       "out_prncp                     float64\n",
       "out_prncp_inv                 float64\n",
       "total_pymnt                   float64\n",
       "total_pymnt_inv               float64\n",
       "total_rec_prncp               float64\n",
       "total_rec_int                 float64\n",
       "total_rec_late_fee            float64\n",
       "recoveries                    float64\n",
       "collection_recovery_fee       float64\n",
       "last_pymnt_d                   object\n",
       "last_pymnt_amnt               float64\n",
       "last_credit_pull_d             object\n",
       "collections_12_mths_ex_med    float64\n",
       "policy_code                   float64\n",
       "application_type               object\n",
       "acc_now_delinq                float64\n",
       "tot_coll_amt                  float64\n",
       "tot_cur_bal                   float64\n",
       "total_rev_hi_lim              float64\n",
       "loan_status_coded               int64\n",
       "dtype: object"
      ]
     },
     "execution_count": 55,
     "metadata": {},
     "output_type": "execute_result"
    }
   ],
   "source": [
    "loan.dtypes"
   ]
  },
  {
   "cell_type": "markdown",
   "metadata": {},
   "source": [
    "### loan_amnt \n",
    "* loan_amnt: The listed amount of the loan applied for by the borrower. If at some point in time, the credit department reduces the loan amount, then it will be reflected in this value."
   ]
  },
  {
   "cell_type": "code",
   "execution_count": 56,
   "metadata": {},
   "outputs": [
    {
     "data": {
      "text/plain": [
       "<matplotlib.axes._subplots.AxesSubplot at 0x7f008b7db128>"
      ]
     },
     "execution_count": 56,
     "metadata": {},
     "output_type": "execute_result"
    },
    {
     "data": {
      "image/png": "[encoded data removed]",
      "text/plain": [
       "<matplotlib.figure.Figure at 0x7f008b5935f8>"
      ]
     },
     "metadata": {},
     "output_type": "display_data"
    }
   ],
   "source": [
    "sns.distplot(loan[\"loan_amnt\"])"
   ]
  },
  {
   "cell_type": "markdown",
   "metadata": {},
   "source": [
    "### funded_amnt, funded_amnt_inv\n",
    "* funded_amnt: The total amount committed to that loan at that point in time.\n",
    "* funded_amnt_inv: The total amount committed by investors for that loan at that point in time."
   ]
  },
  {
   "cell_type": "code",
   "execution_count": 58,
   "metadata": {},
   "outputs": [
    {
     "data": {
      "image/png": "[encoded data removed]",
      "text/plain": [
       "<matplotlib.figure.Figure at 0x7f00a066c1d0>"
      ]
     },
     "metadata": {},
     "output_type": "display_data"
    }
   ],
   "source": [
    "plt.figure()\n",
    "sns.distplot(loan[\"funded_amnt\"], label=\"funded_amnt\")\n",
    "sns.distplot(loan[\"funded_amnt_inv\"], label=\"funded_amnt_inv\")\n",
    "plt.legend()\n",
    "plt.xlabel(\"funded\")\n",
    "plt.show()"
   ]
  },
  {
   "cell_type": "markdown",
   "metadata": {},
   "source": [
    "# term\n",
    "* term: The number of payments on the loan. Values are in months and can be either 36 or 60."
   ]
  },
  {
   "cell_type": "code",
   "execution_count": 61,
   "metadata": {},
   "outputs": [
    {
     "data": {
      "text/plain": [
       "<matplotlib.axes._subplots.AxesSubplot at 0x7f009f0a6d68>"
      ]
     },
     "execution_count": 61,
     "metadata": {},
     "output_type": "execute_result"
    },
    {
     "data": {
      "image/png": "[encoded data removed]",
      "text/plain": [
       "<matplotlib.figure.Figure at 0x7f008b13d5f8>"
      ]
     },
     "metadata": {},
     "output_type": "display_data"
    }
   ],
   "source": [
    "sns.countplot(loan[\"term\"])"
   ]
  },
  {
   "cell_type": "code",
   "execution_count": 60,
   "metadata": {},
   "outputs": [
    {
     "data": {
      "text/plain": [
       "<matplotlib.axes._subplots.AxesSubplot at 0x7f009c9a60b8>"
      ]
     },
     "execution_count": 60,
     "metadata": {},
     "output_type": "execute_result"
    },
    {
     "data": {
      "image/png": "[encoded data removed]",
      "text/plain": [
       "<matplotlib.figure.Figure at 0x7f009f7c22e8>"
      ]
     },
     "metadata": {},
     "output_type": "display_data"
    }
   ],
   "source": [
    "sns.barplot(x=\"term\", y=\"loan_status_coded\", data=loan)"
   ]
  },
  {
   "cell_type": "code",
   "execution_count": null,
   "metadata": {
    "collapsed": true
   },
   "outputs": [],
   "source": []
  }
 ],
 "metadata": {
  "kernelspec": {
   "display_name": "Python 3",
   "language": "python",
   "name": "python3"
  },
  "language_info": {
   "codemirror_mode": {
    "name": "ipython",
    "version": 3
   },
   "file_extension": ".py",
   "mimetype": "text/x-python",
   "name": "python",
   "nbconvert_exporter": "python",
   "pygments_lexer": "ipython3",
   "version": "3.5.3"
  }
 },
 "nbformat": 4,
 "nbformat_minor": 1
}
